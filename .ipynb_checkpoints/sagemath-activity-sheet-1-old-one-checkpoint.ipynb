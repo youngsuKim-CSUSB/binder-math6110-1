{
 "cells": [
  {
   "cell_type": "markdown",
   "id": "c8807d6a-0d8d-4c7a-b58c-a248d915f35f",
   "metadata": {},
   "source": [
    "Instructions for JupyterLab\n",
    "---\n",
    "\n",
    "To execute a cell in JupyterLab, press ``shift`` + ``return``. The content may take about 45 - 50 minutes to finish. Use the remaining time to get familiar with the ``JupyterLab`` and ``Sagemath`` environments. It is due by Wednesday midnight. \n",
    "First make sure you use ``SageMath`` instead of regular Python. To change it follow the instructions below. \n",
    "\n",
    "![image1](./photos/kernel-icon.png)\n",
    "![image2](./photos/kernel-pic1.png)\n",
    "![image3](./photos/kernel-pic2.png)\n"
   ]
  },
  {
   "cell_type": "markdown",
   "id": "4d96fd67",
   "metadata": {},
   "source": [
    "\n",
    "Goal\n",
    "----\n",
    "\n",
    "This activity sheet aims at getting used to computer algebra software. There are many good choices such as SageMath (the one we are using), Singular, and Macaulay2 (maybe MatLab).\n",
    "\n",
    "Here is a link to [Sagemath webpage](https://www.sagemath.org).\n",
    "\n",
    "The current IDE is called [JupyterLab](https://jupyter.org) and the school server is provided by the CSUSB's [high-performance computing program](https://www.csusb.edu/academic-technologies-innovation/xreal-lab-and-high-performance-computing/high-performance-computing).\n",
    "\n",
    "\n",
    "At the end of the notes, you will be asked a few questions and submit your answers to Canvas. We will mainly focus on polyhedral cones and their duals. \n",
    "Recall the definition of a polyhedral cone in $\\mathbb{R}^n$, \n",
    "$$\n",
    "\\sigma = \\operatorname{Cone} (v_1, \\dots, v_k) := \\{ a_1v_1 + \\cdots + a_kv_k \\mid a_i \\ge 0 \\}.\n",
    "$$\n",
    "We will use the ``Cone`` to create these cones. The basic usage is \n",
    "\n",
    "> Cone([generators])\n",
    "\n",
    "where [generators] is a (Python) ``list`` of generators. Execute the next cell to see Robert's cone in $\\mathbb{R}^2$."
   ]
  },
  {
   "cell_type": "code",
   "execution_count": 1,
   "id": "a8a6909d-c7ce-41f6-a567-faa58d3d352b",
   "metadata": {
    "execution": {
     "iopub.execute_input": "2023-09-17T03:53:47.908526Z",
     "iopub.status.busy": "2023-09-17T03:53:47.907566Z",
     "iopub.status.idle": "2023-09-17T03:53:48.242936Z",
     "shell.execute_reply": "2023-09-17T03:53:48.241646Z",
     "shell.execute_reply.started": "2023-09-17T03:53:47.908497Z"
    }
   },
   "outputs": [
    {
     "data": {
      "text/plain": [
       "0-d cone in 2-d lattice N"
      ]
     },
     "execution_count": 1,
     "metadata": {},
     "output_type": "execute_result"
    }
   ],
   "source": [
    "Cone([(0,0)])"
   ]
  },
  {
   "cell_type": "markdown",
   "id": "47b8a4f9-b725-4378-accb-04339d1552e3",
   "metadata": {},
   "source": [
    "We can save the output to use it later. Here we use ``C`` as ``C = Cone(...``. \n",
    "\n",
    "To see the picture, we can use ``plot`` and ``show`` methods. First, we save the cone as ``C``."
   ]
  },
  {
   "cell_type": "code",
   "execution_count": 2,
   "id": "41563fd0-d088-436d-8126-e9fedb33ea97",
   "metadata": {
    "execution": {
     "iopub.execute_input": "2023-09-17T03:53:48.740019Z",
     "iopub.status.busy": "2023-09-17T03:53:48.739107Z",
     "iopub.status.idle": "2023-09-17T03:53:50.178941Z",
     "shell.execute_reply": "2023-09-17T03:53:50.178536Z",
     "shell.execute_reply.started": "2023-09-17T03:53:48.739983Z"
    },
    "tags": []
   },
   "outputs": [
    {
     "data": {
      "image/png": "[encoded data removed]",
      "text/plain": [
       "Graphics object consisting of 1 graphics primitive"
      ]
     },
     "execution_count": 2,
     "metadata": {},
     "output_type": "execute_result"
    }
   ],
   "source": [
    "C = Cone([(0,0)])\n",
    "C.plot() # if this does not work, use C.plot().show()"
   ]
  },
  {
   "cell_type": "markdown",
   "id": "5185f3de-3482-4569-8c23-a5ada05f14c7",
   "metadata": {},
   "source": [
    "Probably, it was not so interesting as it does not a mark the origin. Here is the one generated by $e_1, e_2$."
   ]
  },
  {
   "cell_type": "code",
   "execution_count": 3,
   "id": "4e1cb746-320f-4ff2-9346-2945cc620132",
   "metadata": {
    "execution": {
     "iopub.execute_input": "2023-09-17T03:53:51.521274Z",
     "iopub.status.busy": "2023-09-17T03:53:51.519698Z",
     "iopub.status.idle": "2023-09-17T03:53:51.634526Z",
     "shell.execute_reply": "2023-09-17T03:53:51.634190Z",
     "shell.execute_reply.started": "2023-09-17T03:53:51.521207Z"
    },
    "tags": []
   },
   "outputs": [
    {
     "data": {
      "image/png": "[encoded data removed]",
      "text/plain": [
       "Graphics object consisting of 9 graphics primitives"
      ]
     },
     "execution_count": 3,
     "metadata": {},
     "output_type": "execute_result"
    }
   ],
   "source": [
    "A = [ (1,0), (0,1) ]\n",
    "C = Cone(A)\n",
    "C.plot()"
   ]
  },
  {
   "cell_type": "code",
   "execution_count": null,
   "id": "4f64e226-b014-4145-b646-f21d15646752",
   "metadata": {
    "tags": []
   },
   "outputs": [],
   "source": [
    "# Your first example\n",
    "# Replace fill this out by a list of generators\n",
    "A = [ fill this out ] \n",
    "C = Cone(A)\n",
    "C.plot()"
   ]
  },
  {
   "cell_type": "markdown",
   "id": "28808b00-fc53-4374-b5c4-ef1c07ab6160",
   "metadata": {},
   "source": [
    "Sagemath also computes the dual cone $\\sigma^\\vee$. Use the method ``dual``. "
   ]
  },
  {
   "cell_type": "code",
   "execution_count": 5,
   "id": "c53e388e-300e-4044-9fb0-586fe1362bd9",
   "metadata": {
    "execution": {
     "iopub.execute_input": "2023-09-17T03:54:02.800729Z",
     "iopub.status.busy": "2023-09-17T03:54:02.799075Z",
     "iopub.status.idle": "2023-09-17T03:54:02.931873Z",
     "shell.execute_reply": "2023-09-17T03:54:02.931263Z",
     "shell.execute_reply.started": "2023-09-17T03:54:02.800608Z"
    }
   },
   "outputs": [],
   "source": [
    "A = [(1,0)]\n",
    "C = Cone(A)\n",
    "dualC = C.dual()"
   ]
  },
  {
   "cell_type": "markdown",
   "id": "d976cdc0-0bc8-40b2-abba-498edda66751",
   "metadata": {},
   "source": [
    "The ``rays`` method returns a generating set of a cone.\n",
    "\n",
    "Caveat: In my testing, Sage was not able to plot cones generated by the three vectors $\\perp$, i.e., the generators of the dual above."
   ]
  },
  {
   "cell_type": "code",
   "execution_count": 6,
   "id": "d4fa9c31-f45f-4c76-bb87-b7b8cd78e6a6",
   "metadata": {
    "execution": {
     "iopub.execute_input": "2023-09-17T03:54:05.566646Z",
     "iopub.status.busy": "2023-09-17T03:54:05.565578Z",
     "iopub.status.idle": "2023-09-17T03:54:05.573011Z",
     "shell.execute_reply": "2023-09-17T03:54:05.572272Z",
     "shell.execute_reply.started": "2023-09-17T03:54:05.566603Z"
    }
   },
   "outputs": [
    {
     "data": {
      "text/plain": [
       "M(1,  0),\n",
       "M(0,  1),\n",
       "M(0, -1)\n",
       "in 2-d lattice M"
      ]
     },
     "execution_count": 6,
     "metadata": {},
     "output_type": "execute_result"
    }
   ],
   "source": [
    "dualC.rays()\n",
    "\n",
    "# Try rays with the cone too."
   ]
  },
  {
   "cell_type": "markdown",
   "id": "a325d29c-1a26-43f9-b80f-4146aaa85b39",
   "metadata": {},
   "source": [
    "To find dimension, use ``dim``."
   ]
  },
  {
   "cell_type": "code",
   "execution_count": 7,
   "id": "4f97d34d-655b-44d7-9db7-420ecaed7f4c",
   "metadata": {
    "execution": {
     "iopub.execute_input": "2023-09-17T03:54:07.717537Z",
     "iopub.status.busy": "2023-09-17T03:54:07.716361Z",
     "iopub.status.idle": "2023-09-17T03:54:07.723440Z",
     "shell.execute_reply": "2023-09-17T03:54:07.722765Z",
     "shell.execute_reply.started": "2023-09-17T03:54:07.717490Z"
    }
   },
   "outputs": [
    {
     "data": {
      "text/plain": [
       "(1, 2)"
      ]
     },
     "execution_count": 7,
     "metadata": {},
     "output_type": "execute_result"
    }
   ],
   "source": [
    "C.dim(), dualC.dim()"
   ]
  },
  {
   "cell_type": "markdown",
   "id": "bff663e9",
   "metadata": {},
   "source": [
    "The most recent one we learned is the monoid ([monoid is semigroup + identity](https://en.wikipedia.org/wiki/Semigroup)). Recall the generators of a polyhedral cone are in general not the generators of the semigroup associated to it. Here are examples where the condition is satiafied and not satisfied. "
   ]
  },
  {
   "cell_type": "code",
   "execution_count": 8,
   "id": "2478b360",
   "metadata": {
    "execution": {
     "iopub.execute_input": "2023-09-17T03:54:10.174905Z",
     "iopub.status.busy": "2023-09-17T03:54:10.173838Z",
     "iopub.status.idle": "2023-09-17T03:54:10.190744Z",
     "shell.execute_reply": "2023-09-17T03:54:10.189482Z",
     "shell.execute_reply.started": "2023-09-17T03:54:10.174866Z"
    }
   },
   "outputs": [
    {
     "name": "stdout",
     "output_type": "stream",
     "text": [
      "The generators of the polyhedral cone are \n",
      " N(1, 0),\n",
      "N(0, 1)\n",
      "in 2-d lattice N \n",
      "\n",
      "The generators of the semigroup are \n",
      " N(1, 0),\n",
      "N(0, 1)\n",
      "in 2-d lattice N\n"
     ]
    },
    {
     "data": {
      "text/plain": [
       "True"
      ]
     },
     "execution_count": 8,
     "metadata": {},
     "output_type": "execute_result"
    }
   ],
   "source": [
    "C1 = Cone( [(1,0),(0,1)]) \n",
    "print(\"The generators of the polyhedral cone are \\n\",C1.rays(),\"\\n\")\n",
    "print(\"The generators of the semigroup are \\n\",C1.semigroup_generators())\n",
    "C1.rays() == C1.semigroup_generators()"
   ]
  },
  {
   "cell_type": "code",
   "execution_count": 9,
   "id": "aa329c8c",
   "metadata": {
    "execution": {
     "iopub.execute_input": "2023-09-17T03:54:10.975059Z",
     "iopub.status.busy": "2023-09-17T03:54:10.973649Z",
     "iopub.status.idle": "2023-09-17T03:54:10.989245Z",
     "shell.execute_reply": "2023-09-17T03:54:10.988285Z",
     "shell.execute_reply.started": "2023-09-17T03:54:10.975001Z"
    }
   },
   "outputs": [
    {
     "name": "stdout",
     "output_type": "stream",
     "text": [
      "The generators of the polyhedral cone are \n",
      " N(1,  0),\n",
      "N(1, -2)\n",
      "in 2-d lattice N \n",
      "\n",
      "The generators of the polyhedral cone are \n",
      " N(1, -1),\n",
      "N(1,  0),\n",
      "N(1, -2)\n",
      "in 2-d lattice N \n",
      "\n"
     ]
    },
    {
     "data": {
      "text/plain": [
       "False"
      ]
     },
     "execution_count": 9,
     "metadata": {},
     "output_type": "execute_result"
    }
   ],
   "source": [
    "C2 = Cone( [ (1,0),(1,-2)])\n",
    "print(\"The generators of the polyhedral cone are \\n\",C2.rays(),\"\\n\")\n",
    "print(\"The generators of the polyhedral cone are \\n\",C2.semigroup_generators(),\"\\n\")\n",
    "\n",
    "C2.rays() == C2.semigroup_generators()"
   ]
  },
  {
   "cell_type": "markdown",
   "id": "d126c3eb",
   "metadata": {},
   "source": [
    "Convince yourself with the picture that $(1,-1)$ is necessary."
   ]
  },
  {
   "cell_type": "code",
   "execution_count": 10,
   "id": "c5c7d198",
   "metadata": {
    "execution": {
     "iopub.execute_input": "2023-09-17T03:54:12.974507Z",
     "iopub.status.busy": "2023-09-17T03:54:12.973188Z",
     "iopub.status.idle": "2023-09-17T03:54:13.039853Z",
     "shell.execute_reply": "2023-09-17T03:54:13.039531Z",
     "shell.execute_reply.started": "2023-09-17T03:54:12.974428Z"
    }
   },
   "outputs": [
    {
     "data": {
      "image/png": "[encoded data removed]",
      "text/plain": [
       "Graphics object consisting of 9 graphics primitives"
      ]
     },
     "execution_count": 10,
     "metadata": {},
     "output_type": "execute_result"
    }
   ],
   "source": [
    "C2.plot() "
   ]
  },
  {
   "cell_type": "markdown",
   "id": "1116843c-4543-4513-8a58-34fc2790babd",
   "metadata": {},
   "source": [
    "## Questions"
   ]
  },
  {
   "cell_type": "markdown",
   "id": "e82903d7-4e71-465e-8b35-c383d57a5c1b",
   "metadata": {},
   "source": [
    "**Question** 1 (Generators of a cone). Use the ``rays`` method to find the **generators** of the following cones. <br>\n",
    "(a) $\\sigma = \\operatorname{Cone}( (1,0),(1,1),(2,-1),(1,7) )$. <br>\n",
    "(b) Find the generators of the dual cone of $ \\sigma $ in part (a). <br>\n",
    "(c) The dual cone of the polyhedral cone in $ \\mathbb{R}^3 $ generated by the three vectors $ e_1, e_2, e_3 $. FYI, $ e_1 = (1,0,0), \\dots $. <br>\n",
    "(d) The dual cone of the polyhedral cone in $ \\mathbb{R}^3 $ generated by the four vectors $ e_1, e_2, e_3, e_1-e_2+e_3 $. <br>\n",
    "\n",
    "Comment: For dual cones, it may be helpful to define the dual cone."
   ]
  },
  {
   "cell_type": "code",
   "execution_count": null,
   "id": "d92f07f8",
   "metadata": {},
   "outputs": [],
   "source": [
    "#Use this cell for Q1(a)\n"
   ]
  },
  {
   "cell_type": "code",
   "execution_count": null,
   "id": "5d739994",
   "metadata": {},
   "outputs": [],
   "source": [
    "#Use this cell for Q1(b)\n"
   ]
  },
  {
   "cell_type": "code",
   "execution_count": null,
   "id": "42c47fe9",
   "metadata": {},
   "outputs": [],
   "source": [
    "#Use this cell for Q1(c)\n"
   ]
  },
  {
   "cell_type": "code",
   "execution_count": null,
   "id": "e4352708",
   "metadata": {},
   "outputs": [],
   "source": [
    "#Use this cell for Q1(d)\n"
   ]
  },
  {
   "cell_type": "markdown",
   "id": "9663a9ac",
   "metadata": {},
   "source": [
    "**Question** 2 (Lattice generators). Use the method ``semigroup_generators`` to find the **generators** for the semi-groups associated to the given cone. According to the Monday's notation, you are asked given $\\sigma$ find $S_\\sigma$.\n",
    "$$\n",
    "S_\\sigma := \\sigma^\\vee \\cap M.\n",
    "$$\n",
    "\n",
    "(a) The polyhedral cone in $\\mathbb{R}^2$ generated by the vectors $e_1, -e_1-e_2$. <br>\n",
    "(b) The polyhedral cone in $\\mathbb{R}^2$ generated by the vectors $e_1 - 2e_2, e_2$. <br>\n",
    "(c) The polyhedral cone in $\\mathbb{R}^2$ generated by the vectors $2e_1 - e_2, e_2$. <br>\n",
    "\n",
    "Comment: First, find the dual and ask for their semi-group generators. "
   ]
  },
  {
   "cell_type": "code",
   "execution_count": null,
   "id": "ffd14e7e",
   "metadata": {},
   "outputs": [],
   "source": [
    "#Use this cell for Q2(a)\n"
   ]
  },
  {
   "cell_type": "code",
   "execution_count": null,
   "id": "360c006b",
   "metadata": {},
   "outputs": [],
   "source": [
    "#Use this cell for Q2(b)\n"
   ]
  },
  {
   "cell_type": "code",
   "execution_count": null,
   "id": "e8bde90c",
   "metadata": {},
   "outputs": [],
   "source": [
    "#Use this cell for Q2(c)\n"
   ]
  },
  {
   "cell_type": "markdown",
   "id": "b7f120d6-c222-4078-850d-a2ce8bc616d0",
   "metadata": {},
   "source": [
    "**Question** 3. Do or try something you find interesting. Briefly write down your result if you successed or share your challenges. "
   ]
  },
  {
   "cell_type": "code",
   "execution_count": null,
   "id": "a2c2522c-2363-47d5-a1fd-0418419da330",
   "metadata": {},
   "outputs": [],
   "source": [
    "#Use this cell for Q3\n"
   ]
  },
  {
   "cell_type": "markdown",
   "id": "7fd2cf1f-3181-41af-9742-c6fd9b02ab4d",
   "metadata": {},
   "source": [
    "---\n",
    "\n",
    "This is the last question of the quiz. Save the file then download it and upload it to Canvas. The file extension should be ``ipynb``. \n",
    "\n",
    "See the following image for a reference.\n",
    "\n",
    "![save-download](./photos/save-download.png)"
   ]
  },
  {
   "cell_type": "markdown",
   "id": "cf063e2b",
   "metadata": {},
   "source": [
    "## Link to the assignment submission page\n",
    "\n",
    "https://csusb.instructure.com/courses/24717/assignments/360205"
   ]
  },
  {
   "cell_type": "markdown",
   "id": "d054a39d",
   "metadata": {},
   "source": []
  }
 ],
 "metadata": {
  "kernelspec": {
   "display_name": "SageMath 9.6",
   "language": "sage",
   "name": "sage"
  },
  "language_info": {
   "codemirror_mode": {
    "name": "ipython",
    "version": 3
   },
   "file_extension": ".py",
   "mimetype": "text/x-python",
   "name": "python",
   "nbconvert_exporter": "python",
   "pygments_lexer": "ipython3",
   "version": "3.10.9"
  },
  "vscode": {
   "interpreter": {
    "hash": "f7f16ecf077796f3f01c04bce007394124e3739a6b511142e60b06ebe1af063b"
   }
  }
 },
 "nbformat": 4,
 "nbformat_minor": 5
}
